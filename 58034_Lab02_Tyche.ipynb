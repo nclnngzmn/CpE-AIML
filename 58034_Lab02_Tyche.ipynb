{
  "nbformat": 4,
  "nbformat_minor": 0,
  "metadata": {
    "colab": {
      "name": "58034_Lab02_Tyche.ipynb",
      "provenance": [],
      "collapsed_sections": [],
      "include_colab_link": true
    },
    "kernelspec": {
      "name": "python3",
      "display_name": "Python 3"
    },
    "language_info": {
      "name": "python"
    }
  },
  "cells": [
    {
      "cell_type": "markdown",
      "metadata": {
        "id": "view-in-github",
        "colab_type": "text"
      },
      "source": [
        "<a href=\"https://colab.research.google.com/github/nclnngzmn/CpE-AIML/blob/main/58034_Lab02_Tyche.ipynb\" target=\"_parent\"><img src=\"https://colab.research.google.com/assets/colab-badge.svg\" alt=\"Open In Colab\"/></a>"
      ]
    },
    {
      "cell_type": "markdown",
      "metadata": {
        "id": "J2K9Fz5KyrUp"
      },
      "source": [
        "> **Problem 4.c: Computational Programming (Also Laboratory 2)**\n",
        "\n",
        "> Encode Equations 3.1 to 3.4 as the class `LRegression` wherein:\n",
        "\n",
        "> * `LRegression` should be instantiated with a dataset $X$, a ground truth vector $y$, and a parameter vector $\\theta$. Each parameter should have a data type of `numpy.array`.\n",
        "> * It should further have `methods`reflecting to at least the four (4) aforementioned equations. Each should have a return value.\n"
      ]
    },
    {
      "cell_type": "code",
      "metadata": {
        "id": "aD2alVVOysTM"
      },
      "source": [
        "import numpy as np\n",
        "from numpy import random"
      ],
      "execution_count": null,
      "outputs": []
    },
    {
      "cell_type": "code",
      "metadata": {
        "id": "rPj8pY0_27pH"
      },
      "source": [
        "class LRegression():\n",
        "  def __init__(self, X_array, y_GndTruth, thetaVector):\n",
        "    self.X_array = X_array\n",
        "    self.y_GndTruth = y_GndTruth\n",
        "    self.thetaVector = thetaVector\n",
        "  \n",
        "  def getVectorMagnitude(self):\n",
        "    magnitude = np.linalg.norm(self.thetaVector)\n",
        "    return magnitude\n",
        "  \n",
        "  def getZ(self): #Eq. 3.1\n",
        "    self.z = np.dot(self.X_array, self.thetaVector)\n",
        "    return self.z\n",
        "\n",
        "  def getActivation (self): #Eq. 3.2 & 3.3\n",
        "    self.activation = 1/(1+np.exp(self.z))\n",
        "    return self.activation\n",
        "\n",
        "  def getLoss(self): #Eq. 3.4\n",
        "    m = self.y_GndTruth.shape[0]\n",
        "    yt = self.y_GndTruth.transpose()      \n",
        "    lossEq = np.sum((-1*yt)*(np.log(self.activation)) - ((1-self.y_GndTruth).transpose())*(np.log(1-self.activation)))\n",
        "    self.J = (1/m)*lossEq\n",
        "    return self.J"
      ],
      "execution_count": null,
      "outputs": []
    },
    {
      "cell_type": "code",
      "metadata": {
        "id": "0gugDbEJ2-U_"
      },
      "source": [
        "X = np.array([[2,4,6],\n",
        "              [1,7,9],\n",
        "              [3,5,8]])\n",
        "m = X.shape[1]\n",
        "theta = np.random.normal(0, 1, size=(m, 1))\n",
        "y = np.random.randint(0,2, size=(m,1))\n",
        "Regression = LRegression(X, y, theta)"
      ],
      "execution_count": 38,
      "outputs": []
    },
    {
      "cell_type": "code",
      "metadata": {
        "id": "64iTVwLo_l8O"
      },
      "source": [
        "#Checking\n",
        "#X_c = np.random.random((300,5))*100\n",
        "#theta_c = np.random.random((300,1))\n",
        "#y_c = np.random.randint(0,2,(300,1))"
      ],
      "execution_count": null,
      "outputs": []
    },
    {
      "cell_type": "code",
      "metadata": {
        "colab": {
          "base_uri": "https://localhost:8080/"
        },
        "id": "Qsk6Yc1J3BJv",
        "outputId": "37c7d4ca-b18f-4be5-eab1-e2beeecfdbdc"
      },
      "source": [
        "Regression.getVectorMagnitude()"
      ],
      "execution_count": 39,
      "outputs": [
        {
          "output_type": "execute_result",
          "data": {
            "text/plain": [
              "0.2652401539986492"
            ]
          },
          "metadata": {},
          "execution_count": 39
        }
      ]
    },
    {
      "cell_type": "markdown",
      "metadata": {
        "id": "O216GIfQE4eD"
      },
      "source": [
        "###Equation 3.1"
      ]
    },
    {
      "cell_type": "markdown",
      "metadata": {
        "id": "TbR6VCpkFDol"
      },
      "source": [
        "$$ z = x^{(i)}\\theta^{(i)} = X\\cdot \\theta\\\\_{\\text{Eq. 3.1}}$$"
      ]
    },
    {
      "cell_type": "code",
      "metadata": {
        "colab": {
          "base_uri": "https://localhost:8080/"
        },
        "id": "_9oJcScfE7lN",
        "outputId": "b0c4b955-565f-488c-f480-58bf70f9cbcc"
      },
      "source": [
        "Regression.getZ()"
      ],
      "execution_count": 40,
      "outputs": [
        {
          "output_type": "execute_result",
          "data": {
            "text/plain": [
              "array([[-0.59073824],\n",
              "       [-0.89196266],\n",
              "       [-0.74918328]])"
            ]
          },
          "metadata": {},
          "execution_count": 40
        }
      ]
    },
    {
      "cell_type": "markdown",
      "metadata": {
        "id": "E5zyEAlzFPL0"
      },
      "source": [
        "###Equation 3.2 and 3.3"
      ]
    },
    {
      "cell_type": "markdown",
      "metadata": {
        "id": "LL_Z1iAYFcm2"
      },
      "source": [
        "$$ h_\\theta(x) = g(z)\\\\_{\\text{Eq. 3.2}}$$"
      ]
    },
    {
      "cell_type": "markdown",
      "metadata": {
        "id": "2P7Mpf29joKK"
      },
      "source": [
        "$$g(z) = \\frac{1}{1+e^{-z}}\\\\_{\\text{Eq. 3.3}}$$"
      ]
    },
    {
      "cell_type": "code",
      "metadata": {
        "id": "wT0vvjXcFiHC",
        "colab": {
          "base_uri": "https://localhost:8080/"
        },
        "outputId": "993c280e-ddd6-461d-b5fb-c4f8734854fb"
      },
      "source": [
        "Regression.getActivation()"
      ],
      "execution_count": 41,
      "outputs": [
        {
          "output_type": "execute_result",
          "data": {
            "text/plain": [
              "array([[0.64353451],\n",
              "       [0.70929503],\n",
              "       [0.67900071]])"
            ]
          },
          "metadata": {},
          "execution_count": 41
        }
      ]
    },
    {
      "cell_type": "markdown",
      "metadata": {
        "id": "tSwcG46IFXXk"
      },
      "source": [
        "###Equation 3.4"
      ]
    },
    {
      "cell_type": "markdown",
      "metadata": {
        "id": "q9R5iUmOFrLv"
      },
      "source": [
        "$$J(\\theta) = \\frac{1}{m} \\sum^m_{i=0}=[-y^{(i)}\\log({h_{\\theta}(x^{(i)})})-(1-y^{(i)})\\log(1-h_{\\theta}(x^{(i)}))]\\\\_{\\text{Eq. 3.4}}$$"
      ]
    },
    {
      "cell_type": "code",
      "metadata": {
        "colab": {
          "base_uri": "https://localhost:8080/"
        },
        "id": "sYGESqrIg6Ol",
        "outputId": "1d900b4e-e8ee-4b74-a988-6020c4075ee3"
      },
      "source": [
        "Regression.getLoss()"
      ],
      "execution_count": 42,
      "outputs": [
        {
          "output_type": "execute_result",
          "data": {
            "text/plain": [
              "1.915357828438457"
            ]
          },
          "metadata": {},
          "execution_count": 42
        }
      ]
    }
  ]
}