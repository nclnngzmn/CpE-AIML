{
  "nbformat": 4,
  "nbformat_minor": 0,
  "metadata": {
    "colab": {
      "name": "58034_Lab02_Tyche.ipynb",
      "provenance": [],
      "collapsed_sections": [],
      "include_colab_link": true
    },
    "kernelspec": {
      "name": "python3",
      "display_name": "Python 3"
    },
    "language_info": {
      "name": "python"
    }
  },
  "cells": [
    {
      "cell_type": "markdown",
      "metadata": {
        "id": "view-in-github",
        "colab_type": "text"
      },
      "source": [
        "<a href=\"https://colab.research.google.com/drive/1seYGbBHco1FdwJEdLrv2GcqJkoqVAuPp\" target=\"_parent\"><img src=\"https://colab.research.google.com/assets/colab-badge.svg\" alt=\"Open In Colab\"/></a>"
      ]
    },
    {
      "cell_type": "markdown",
      "metadata": {
        "id": "J2K9Fz5KyrUp"
      },
      "source": [
        "> **Problem 4.c: Computational Programming (Also Laboratory 2)**\n",
        "\n",
        "> Encode Equations 3.1 to 3.4 as the class `LRegression` wherein:\n",
        "\n",
        "> * `LRegression` should be instantiated with a dataset $X$, a ground truth vector $y$, and a parameter vector $\\theta$. Each parameter should have a data type of `numpy.array`.\n",
        "> * It should further have `methods`reflecting to at least the four (4) aforementioned equations. Each should have a return value.\n"
      ]
    },
    {
      "cell_type": "code",
      "metadata": {
        "id": "aD2alVVOysTM"
      },
      "source": [
        "import numpy as np\n",
        "from numpy import random"
      ],
      "execution_count": 1,
      "outputs": []
    },
    {
      "cell_type": "code",
      "metadata": {
        "id": "rPj8pY0_27pH"
      },
      "source": [
        "class LRegression():\n",
        "  def __init__(self, X_array, y_GndTruth, thetaVector):\n",
        "    self.X_array = X_array\n",
        "    self.y_GndTruth = y_GndTruth\n",
        "    self.thetaVector = thetaVector\n",
        "  \n",
        "  def getVectorMagnitude(self):\n",
        "    magnitude = np.linalg.norm(self.thetaVector)\n",
        "    return magnitude\n",
        "  \n",
        "  def getZ(self): #Eq. 3.1\n",
        "    self.z = np.dot(self.X_array, self.thetaVector)\n",
        "    return self.z\n",
        "\n",
        "  def getActivation (self): #Eq. 3.2 & 3.3\n",
        "    self.activation = 1/(1+np.exp(self.z))\n",
        "    return self.activation\n",
        "\n",
        "  def getLoss(self): #Eq. 3.4\n",
        "    m = self.y_GndTruth.shape[0]\n",
        "    yt = self.y_GndTruth.transpose()    \n",
        "    lossEq = (-1*yt)*np.sum(np.multiply(np.log(self.activation), self.y_GndTruth)) - ((1-self.y_GndTruth).transpose())*(np.log(1-self.activation))\n",
        "    self.J = (1/m)*lossEq\n",
        "    return self.J"
      ],
      "execution_count": 8,
      "outputs": []
    },
    {
      "cell_type": "code",
      "metadata": {
        "id": "0gugDbEJ2-U_"
      },
      "source": [
        "X = np.array([[2,4,6],\n",
        "              [1,7,9],\n",
        "              [3,5,8],])\n",
        "m = X.shape[1]\n",
        "theta = np.random.normal(0, 1, size=(m, 1))\n",
        "y = np.random.randint(0,2, size=(m,1))\n",
        "Regression = LRegression(X, y, theta)"
      ],
      "execution_count": 9,
      "outputs": []
    },
    {
      "cell_type": "code",
      "metadata": {
        "colab": {
          "base_uri": "https://localhost:8080/"
        },
        "id": "Qsk6Yc1J3BJv",
        "outputId": "6d88b5f5-92f3-4215-a6a5-c5bb579e5d8e"
      },
      "source": [
        "Regression.getVectorMagnitude()"
      ],
      "execution_count": 10,
      "outputs": [
        {
          "output_type": "execute_result",
          "data": {
            "text/plain": [
              "1.5202314307868783"
            ]
          },
          "metadata": {},
          "execution_count": 10
        }
      ]
    },
    {
      "cell_type": "markdown",
      "metadata": {
        "id": "O216GIfQE4eD"
      },
      "source": [
        "###Equation 3.1"
      ]
    },
    {
      "cell_type": "markdown",
      "metadata": {
        "id": "TbR6VCpkFDol"
      },
      "source": [
        "$$ z = x^{(i)}\\theta^{(i)} = X\\cdot \\theta\\\\_{\\text{Eq. 3.1}}$$"
      ]
    },
    {
      "cell_type": "code",
      "metadata": {
        "colab": {
          "base_uri": "https://localhost:8080/"
        },
        "id": "_9oJcScfE7lN",
        "outputId": "03a9b42b-f92d-4beb-eb6c-7813e6032b62"
      },
      "source": [
        "Regression.getZ()"
      ],
      "execution_count": 11,
      "outputs": [
        {
          "output_type": "execute_result",
          "data": {
            "text/plain": [
              "array([[3.30956746],\n",
              "       [8.1821339 ],\n",
              "       [3.75506618]])"
            ]
          },
          "metadata": {},
          "execution_count": 11
        }
      ]
    },
    {
      "cell_type": "markdown",
      "metadata": {
        "id": "E5zyEAlzFPL0"
      },
      "source": [
        "###Equation 3.2 and 3.3"
      ]
    },
    {
      "cell_type": "markdown",
      "metadata": {
        "id": "LL_Z1iAYFcm2"
      },
      "source": [
        "$$ h_\\theta(x) = g(z)\\\\_{\\text{Eq. 3.2}}$$"
      ]
    },
    {
      "cell_type": "markdown",
      "metadata": {
        "id": "2P7Mpf29joKK"
      },
      "source": [
        "$$g(z) = \\frac{1}{1+e^{-z}}\\\\_{\\text{Eq. 3.3}}$$"
      ]
    },
    {
      "cell_type": "code",
      "metadata": {
        "id": "wT0vvjXcFiHC",
        "colab": {
          "base_uri": "https://localhost:8080/"
        },
        "outputId": "d8b31941-10b1-477c-9929-20679c4449d8"
      },
      "source": [
        "Regression.getActivation()"
      ],
      "execution_count": 12,
      "outputs": [
        {
          "output_type": "execute_result",
          "data": {
            "text/plain": [
              "array([[0.03524442],\n",
              "       [0.00027953],\n",
              "       [0.02286391]])"
            ]
          },
          "metadata": {},
          "execution_count": 12
        }
      ]
    },
    {
      "cell_type": "markdown",
      "metadata": {
        "id": "tSwcG46IFXXk"
      },
      "source": [
        "###Equation 3.4"
      ]
    },
    {
      "cell_type": "markdown",
      "metadata": {
        "id": "q9R5iUmOFrLv"
      },
      "source": [
        "$$J(\\theta) = \\frac{1}{m} \\sum^m_{i=0}=[-y^{(i)}\\log({h_{\\theta}(x^{(i)})})-(1-y^{(i)})\\log(1-h_{\\theta}(x^{(i)}))]\\\\_{\\text{Eq. 3.4}}$$"
      ]
    },
    {
      "cell_type": "code",
      "metadata": {
        "colab": {
          "base_uri": "https://localhost:8080/"
        },
        "id": "sYGESqrIg6Ol",
        "outputId": "1894130c-a77f-4a15-f771-316c51e7159a"
      },
      "source": [
        "Regression.getLoss()"
      ],
      "execution_count": 13,
      "outputs": [
        {
          "output_type": "execute_result",
          "data": {
            "text/plain": [
              "array([[1.19601662e-02, 2.72747115e+00, 1.19601662e-02],\n",
              "       [9.31885243e-05, 2.72747115e+00, 9.31885243e-05],\n",
              "       [7.70978151e-03, 2.72747115e+00, 7.70978151e-03]])"
            ]
          },
          "metadata": {},
          "execution_count": 13
        }
      ]
    }
  ]
}
