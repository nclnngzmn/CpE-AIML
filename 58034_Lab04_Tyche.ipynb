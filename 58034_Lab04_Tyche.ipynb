{
  "nbformat": 4,
  "nbformat_minor": 0,
  "metadata": {
    "colab": {
      "name": "58034_Lab04_Tyche.ipynb",
      "provenance": [],
      "collapsed_sections": [],
      "include_colab_link": true
    },
    "kernelspec": {
      "display_name": "Python 3",
      "name": "python3"
    },
    "language_info": {
      "name": "python"
    }
  },
  "cells": [
    {
      "cell_type": "markdown",
      "metadata": {
        "id": "view-in-github",
        "colab_type": "text"
      },
      "source": [
        "<a href=\"https://colab.research.google.com/github/nclnngzmn/CpE-AIML/blob/main/58034_Lab04_Tyche.ipynb\" target=\"_parent\"><img src=\"https://colab.research.google.com/assets/colab-badge.svg\" alt=\"Open In Colab\"/></a>"
      ]
    },
    {
      "cell_type": "markdown",
      "metadata": {
        "id": "Q3Ki7Eix6HfL"
      },
      "source": [
        "# Topic 4 Lab 2: Multiple Linear Regression\n",
        "$_{\\text{©D.J. Lopez | 2021 | Fundamentals of Machine Learning}}$"
      ]
    },
    {
      "cell_type": "markdown",
      "metadata": {
        "id": "0cApvlgu6RXq"
      },
      "source": [
        "Create a class named `MultipleLinearRegression()` wherein it can compute for the linear regression for multiple variables. The class will be required to have the following helper methods:\n",
        "> 1. `correlations(X, y)`\n",
        ">> input: 2 Rank 2 matrices\n",
        ">>\n",
        ">> output: A vector that contains the covariances of each feature to the target. \n",
        "> 3. `train(X, y)`\n",
        ">> input: 2 Rank 2 matrices\n",
        ">>\n",
        ">> output: the weights of the linear regressor. Use least squares method for this part. If the training fails due to the singularity of the matrix, raise a custom error pertaining to autocorrelation.\n",
        "> 4. `predict(x)`\n",
        ">> input: A testing vector. *Note*: this function should only accept vectors.\n",
        ">>\n",
        ">> output: the predicted value. Note: the procedure in solving for the predicted value should be vectorized. Use the concept of matrix multiplication. Do not forget to pad the matrix for the bias term.\n",
        "> 5. `evaluate()`\n",
        ">> input: *none*\n",
        ">>\n",
        ">> output: a `DataFrame` that displays the SST, SSR, SST, MSE, RMSE, R-squared, and the Adjusted R-squared. Note: You should use the `predict()` method here.\n",
        "> 5. `visualize(testX, testY)`\n",
        ">> input: the dataset training sets and their ground truths.\n",
        ">>\n",
        ">> output: a visualization of the linear regressor over the testing dataset. It should be saved as a .jpg file into the running notebook with a dpi of 400."
      ]
    },
    {
      "cell_type": "code",
      "metadata": {
        "id": "0UUrD4zJ6EVj"
      },
      "source": [
        "import numpy as np\n",
        "import matplotlib.pyplot as plt\n",
        "import pandas as pd\n",
        "## No other packages or libraries can be added in this cell"
      ],
      "execution_count": null,
      "outputs": []
    },
    {
      "cell_type": "code",
      "metadata": {
        "id": "H9g0nQbehFjB"
      },
      "source": [
        "### YOUR CODE HERE\n",
        "class MultipleLinearRegression():\n",
        "  def correlations(self,X,y):\n",
        "    self.R  =np.corrcoef(X,y,rowvar=False).round(2).reshape(1,9)[0][-4:-2]\n",
        "    return print(f'R = {self.R}')\n",
        "\n",
        "  def train(self, X,y):\n",
        "    X_T = np.c_[np.ones(len(X_train)), X_train]    \n",
        "    #error = np.linalg.norm(X_T.dot(theta) - y, ord=2)**2\n",
        "    self.theta = np.linalg.pinv(X_T.T.dot(X_T)).dot(X_T.T).dot(y_train).reshape(3,1)\n",
        "    self.model_ =(np.array([self.theta[-2],self.theta[-1],self.theta[0]]))\n",
        "\n",
        "  def predict(self, x):\n",
        "    self.y_hat = np.array(np.c_[np.ones((len(X_test), 1)), X_test])\n",
        "    i = np.arange(0,5)\n",
        "    self.preds = (np.dot(self.y_hat, self.theta)).round(2)\n",
        "    return self.preds,i\n",
        "\n",
        "  def evaluate(self):\n",
        "    y = y_train.values[:,np.newaxis] \n",
        "    y_hat = np.arange(5*5).reshape(5,5)\n",
        "    sst = np.sum(np.square(y)-(np.mean(y)))\n",
        "    ssr = np.sum(np.square(self.y_hat)-(np.mean(y)))\n",
        "    mse=np.mean(np.square(y_hat-y[0:5]))\n",
        "    rsme = (np.sqrt(np.mean(np.sum(np.square(self.y_hat)))))\n",
        "    r2 = (self.R**2)\n",
        "    ar2 = (1-((1-r2)*(len(y)-1)/(len(y)-len(X)-1)))\n",
        "    evaluate = {'SST': sst, 'SSR': ssr,'MSE': mse,'RSME': rsme,\n",
        "        'R-squared': r2,'Adjusted R-squared': ar2                      \n",
        "    }  \n",
        "    df = pd.DataFrame(evaluate)\n",
        "    return df\n",
        "\n",
        "  def visualize(self,testX, testY):\n",
        "    fig, ax = plt.subplots()\n",
        "    regressor = plt.scatter(y_test, self.preds, color= 'green')\n",
        "    plt.grid()\n",
        "    ax.set_xlabel('True Values')\n",
        "    ax.set_ylabel('Fitted Values')\n",
        "    ax.set_title('True Value vs. Fitted Values');\n",
        "    plt.savefig(f'Linear Regressor.jpg', dpi=400)\n",
        "    return fig,ax, plt.show()"
      ],
      "execution_count": null,
      "outputs": []
    },
    {
      "cell_type": "code",
      "metadata": {
        "id": "7RB4i8MI96Ys"
      },
      "source": [
        "### Testing Data\n",
        "### DO NOT DELETE NOR MODIFY THIS CELL\n",
        "### Data can be retrieved from the git repo\n",
        "X = pd.read_csv(\"/content/real_estate_price_size_year.csv\") \n",
        "y = X['price']\n",
        "X = X.drop('price', axis=1)\n",
        "X_train, X_test = X.iloc[0:95], X.iloc[95:]\n",
        "y_train, y_test = y.iloc[0:95], y.iloc[95:]"
      ],
      "execution_count": null,
      "outputs": []
    },
    {
      "cell_type": "code",
      "metadata": {
        "id": "zGY61WiZ-Ze5"
      },
      "source": [
        "## TEST #1 (Max pts: 5)\n",
        "## DO NOT DELETE NOR MODIFY THIS CELL\n",
        "regressor = MultipleLinearRegression()"
      ],
      "execution_count": null,
      "outputs": []
    },
    {
      "cell_type": "code",
      "metadata": {
        "colab": {
          "base_uri": "https://localhost:8080/"
        },
        "id": "IKuHQIceA2D0",
        "outputId": "b54f6c05-e780-4b40-89fd-187dad901689"
      },
      "source": [
        "## TEST #2 (Max pts: 10)\n",
        "## DO NOT DELETE NOR MODIFY THIS CELL\n",
        "R = regressor.correlations(X,y)\n",
        "R"
      ],
      "execution_count": null,
      "outputs": [
        {
          "output_type": "stream",
          "name": "stdout",
          "text": [
            "R = [0.09 0.86]\n"
          ]
        }
      ]
    },
    {
      "cell_type": "markdown",
      "metadata": {
        "id": "iKPsTkB3BQuj"
      },
      "source": [
        "Expected output value:\n",
        "$$R = \\begin{bmatrix}0.09 & 0.86\\end{bmatrix}$$"
      ]
    },
    {
      "cell_type": "code",
      "metadata": {
        "colab": {
          "base_uri": "https://localhost:8080/"
        },
        "id": "FlWF-AQEBnwL",
        "outputId": "51175c07-4450-43b7-d9a7-235f9715efd4"
      },
      "source": [
        "## TEST #3 (Max pts: 15)\n",
        "## DO NOT DELETE NOR MODIFY THIS CELL\n",
        "regressor.train(X,y)\n",
        "regressor.model_"
      ],
      "execution_count": null,
      "outputs": [
        {
          "output_type": "execute_result",
          "data": {
            "text/plain": [
              "array([[ 2.32557432e+02],\n",
              "       [ 3.01009337e+03],\n",
              "       [-5.96417478e+06]])"
            ]
          },
          "metadata": {},
          "execution_count": 10
        }
      ]
    },
    {
      "cell_type": "markdown",
      "metadata": {
        "id": "Jpl2Cz9SB6fz"
      },
      "source": [
        "Expected output value:\n",
        "$$\\omega = \\begin{bmatrix}\\omega_1 \\\\ \\omega_2 \\\\ \\omega_0\\end{bmatrix} = \\begin{bmatrix}232.56 \\\\ 3010.09 \\\\ -5964175.03\\end{bmatrix}$$"
      ]
    },
    {
      "cell_type": "code",
      "metadata": {
        "colab": {
          "base_uri": "https://localhost:8080/"
        },
        "id": "k9Q8e7JXC9U7",
        "outputId": "aa984275-d5c7-4bba-bf5e-082881642fcb"
      },
      "source": [
        "## TEST #4 (Max pts: 35)\n",
        "## DO NOT DELETE NOR MODIFY THIS CELL\n",
        "preds = regressor.predict(X_test)\n",
        "preds"
      ],
      "execution_count": null,
      "outputs": [
        {
          "output_type": "execute_result",
          "data": {
            "text/plain": [
              "(array([[210962.87],\n",
              "        [324367.18],\n",
              "        [424013.31],\n",
              "        [251928.01],\n",
              "        [238092.94]]), array([0, 1, 2, 3, 4]))"
            ]
          },
          "metadata": {},
          "execution_count": 11
        }
      ]
    },
    {
      "cell_type": "markdown",
      "metadata": {
        "id": "BdpaVDV3DBzr"
      },
      "source": [
        "Expected output value:\n",
        "$$\\hat{y}_i = \\begin{bmatrix} 210962.87 \\\\ 324367.17 \\\\ 424013.31 \\\\ 251928.01 \\\\ 238092.94 \\end{bmatrix}, i = \\{0,1,2,3,4\\}$$"
      ]
    },
    {
      "cell_type": "code",
      "metadata": {
        "colab": {
          "base_uri": "https://localhost:8080/",
          "height": 111
        },
        "id": "FUJuLe9pDArc",
        "outputId": "1a19d8b2-2279-4ef6-d7c6-15e1663e8544"
      },
      "source": [
        "# TEST #5 (Max pts: 25)\n",
        "## DO NOT DELETE NOR MODIFY THIS CELL\n",
        "model_stats = regressor.evaluate()\n",
        "model_stats"
      ],
      "execution_count": null,
      "outputs": [
        {
          "output_type": "execute_result",
          "data": {
            "text/html": [
              "<div>\n",
              "<style scoped>\n",
              "    .dataframe tbody tr th:only-of-type {\n",
              "        vertical-align: middle;\n",
              "    }\n",
              "\n",
              "    .dataframe tbody tr th {\n",
              "        vertical-align: top;\n",
              "    }\n",
              "\n",
              "    .dataframe thead th {\n",
              "        text-align: right;\n",
              "    }\n",
              "</style>\n",
              "<table border=\"1\" class=\"dataframe\">\n",
              "  <thead>\n",
              "    <tr style=\"text-align: right;\">\n",
              "      <th></th>\n",
              "      <th>SST</th>\n",
              "      <th>SSR</th>\n",
              "      <th>MSE</th>\n",
              "      <th>RSME</th>\n",
              "      <th>R-squared</th>\n",
              "      <th>Adjusted R-squared</th>\n",
              "    </tr>\n",
              "  </thead>\n",
              "  <tbody>\n",
              "    <tr>\n",
              "      <th>0</th>\n",
              "      <td>8.697436e+12</td>\n",
              "      <td>2.035434e+07</td>\n",
              "      <td>1.115619e+11</td>\n",
              "      <td>4974.033802</td>\n",
              "      <td>0.0081</td>\n",
              "      <td>16.539767</td>\n",
              "    </tr>\n",
              "    <tr>\n",
              "      <th>1</th>\n",
              "      <td>8.697436e+12</td>\n",
              "      <td>2.035434e+07</td>\n",
              "      <td>1.115619e+11</td>\n",
              "      <td>4974.033802</td>\n",
              "      <td>0.7396</td>\n",
              "      <td>5.079600</td>\n",
              "    </tr>\n",
              "  </tbody>\n",
              "</table>\n",
              "</div>"
            ],
            "text/plain": [
              "            SST           SSR  ...  R-squared  Adjusted R-squared\n",
              "0  8.697436e+12  2.035434e+07  ...     0.0081           16.539767\n",
              "1  8.697436e+12  2.035434e+07  ...     0.7396            5.079600\n",
              "\n",
              "[2 rows x 6 columns]"
            ]
          },
          "metadata": {},
          "execution_count": 11
        }
      ]
    },
    {
      "cell_type": "code",
      "metadata": {
        "id": "J7XW0jArDrQs",
        "colab": {
          "base_uri": "https://localhost:8080/",
          "height": 346
        },
        "outputId": "c898bfc4-858b-43ff-f5b6-91b5c658607a"
      },
      "source": [
        "## TEST #6 (Max pts: 15)\n",
        "## DO NOT DELETE NOR MODIFY THIS CELL\n",
        "regressor.visualize(X_test, y_train)"
      ],
      "execution_count": null,
      "outputs": [
        {
          "output_type": "display_data",
          "data": {
            "image/png": "[encoded data removed]",
            "text/plain": [
              "<Figure size 432x288 with 1 Axes>"
            ]
          },
          "metadata": {
            "needs_background": "light"
          }
        },
        {
          "output_type": "execute_result",
          "data": {
            "text/plain": [
              "(<Figure size 432x288 with 1 Axes>,\n",
              " <matplotlib.axes._subplots.AxesSubplot at 0x7f7f8b478450>,\n",
              " None)"
            ]
          },
          "metadata": {},
          "execution_count": 12
        }
      ]
    },
    {
      "cell_type": "code",
      "metadata": {
        "id": "Qj022gloOj80"
      },
      "source": [
        ""
      ],
      "execution_count": null,
      "outputs": []
    }
  ]
}